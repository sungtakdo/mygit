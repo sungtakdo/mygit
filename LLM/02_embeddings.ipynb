{
 "cells": [
  {
   "cell_type": "code",
   "execution_count": 4,
   "metadata": {},
   "outputs": [
    {
     "name": "stderr",
     "output_type": "stream",
     "text": [
      "c:\\Users\\AISW-203-117\\Desktop\\ST\\폴리텍\\LLM\\py311\\Lib\\site-packages\\transformers\\tokenization_utils_base.py:1617: FutureWarning: `clean_up_tokenization_spaces` was not set. It will be set to `True` by default. This behavior will be deprecated in transformers v4.45, and will be then set to `False` by default. For more details check this issue: https://github.com/huggingface/transformers/issues/31884\n",
      "  warnings.warn(\n"
     ]
    }
   ],
   "source": [
    "from sentence_transformers import SentenceTransformer, util\n",
    "import numpy as np\n",
    " \n",
    "embedder = SentenceTransformer(\"jhgan/ko-sroberta-multitask\")"
   ]
  },
  {
   "cell_type": "code",
   "execution_count": 5,
   "metadata": {},
   "outputs": [
    {
     "name": "stdout",
     "output_type": "stream",
     "text": [
      "tensor([[-0.1647, -0.0820,  0.1329,  ...,  0.2816,  0.3149,  0.1756],\n",
      "        [-0.8927, -0.3887,  0.4468,  ..., -0.0799, -0.4647,  0.0957],\n",
      "        [ 0.0375, -0.0497, -0.0749,  ...,  0.2416,  0.0625,  1.0018],\n",
      "        [-0.1789, -0.4899,  0.6837,  ..., -0.4113, -0.4747,  0.3971],\n",
      "        [-0.0075, -0.5128,  0.7911,  ..., -0.4656, -0.0190,  0.3382]])\n"
     ]
    }
   ],
   "source": [
    "# Corpus with example sentences\n",
    "corpus = ['나는 학교에서 잠을 잔다.',\n",
    "          '나는 집에서 잠을 자지 않는다.',\n",
    "          '나는 저녁에 잠을 잔다.',\n",
    "          '잠을 자지 않았더니 피곤하다.',\n",
    "          '잠을 자고 일어났다.']\n",
    " \n",
    "corpus_embeddings = embedder.encode(corpus, convert_to_tensor=True)\n",
    "print(corpus_embeddings)"
   ]
  },
  {
   "cell_type": "code",
   "execution_count": 6,
   "metadata": {},
   "outputs": [
    {
     "name": "stdout",
     "output_type": "stream",
     "text": [
      "\n",
      "\n",
      "======================\n",
      "\n",
      "\n",
      "Query: 나는 집에서 잠을 잔다.\n",
      "\n",
      "Top 5 most similar sentences in corpus:\n",
      "나는 학교에서 잠을 잔다. (Score: 0.6590)\n",
      "나는 저녁에 잠을 잔다. (Score: 0.5918)\n",
      "잠을 자고 일어났다. (Score: 0.4960)\n",
      "나는 집에서 잠을 자지 않는다. (Score: 0.4641)\n",
      "잠을 자지 않았더니 피곤하다. (Score: 0.2901)\n"
     ]
    }
   ],
   "source": [
    "# Query sentences:\n",
    "queries = ['나는 집에서 잠을 잔다.']\n",
    " \n",
    "# Find the closest 5 sentences of the corpus for each query sentence based on cosine similarity\n",
    "top_k = 5\n",
    "for query in queries:\n",
    " query_embedding = embedder.encode(query, convert_to_tensor=True)\n",
    " cos_scores = util.pytorch_cos_sim(query_embedding, corpus_embeddings)[0]\n",
    " cos_scores = cos_scores.cpu()\n",
    " \n",
    " #We use np.argpartition, to only partially sort the top_k results\n",
    " top_results = np.argpartition(-cos_scores, range(top_k))[0:top_k]\n",
    " \n",
    " \n",
    " \n",
    " print(\"\\n\\n======================\\n\\n\")\n",
    " print(\"Query:\", query)\n",
    " print(\"\\nTop 5 most similar sentences in corpus:\")\n",
    " \n",
    " for idx in top_results[0:top_k]:\n",
    "  print(corpus[idx].strip(), \"(Score: %.4f)\" % (cos_scores[idx]))"
   ]
  }
 ],
 "metadata": {
  "kernelspec": {
   "display_name": "py311",
   "language": "python",
   "name": "python3"
  },
  "language_info": {
   "codemirror_mode": {
    "name": "ipython",
    "version": 3
   },
   "file_extension": ".py",
   "mimetype": "text/x-python",
   "name": "python",
   "nbconvert_exporter": "python",
   "pygments_lexer": "ipython3",
   "version": "3.11.7"
  }
 },
 "nbformat": 4,
 "nbformat_minor": 2
}
