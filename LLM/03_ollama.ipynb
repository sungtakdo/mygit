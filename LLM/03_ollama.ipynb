{
 "cells": [
  {
   "cell_type": "code",
   "execution_count": 1,
   "metadata": {},
   "outputs": [
    {
     "name": "stdout",
     "output_type": "stream",
     "text": [
      "Requirement already satisfied: langchain in c:\\users\\aisw-203-117\\desktop\\st\\폴리텍\\llm\\py311\\lib\\site-packages (0.3.1)\n",
      "Requirement already satisfied: PyYAML>=5.3 in c:\\users\\aisw-203-117\\desktop\\st\\폴리텍\\llm\\py311\\lib\\site-packages (from langchain) (6.0.2)\n",
      "Requirement already satisfied: SQLAlchemy<3,>=1.4 in c:\\users\\aisw-203-117\\desktop\\st\\폴리텍\\llm\\py311\\lib\\site-packages (from langchain) (2.0.35)\n",
      "Requirement already satisfied: aiohttp<4.0.0,>=3.8.3 in c:\\users\\aisw-203-117\\desktop\\st\\폴리텍\\llm\\py311\\lib\\site-packages (from langchain) (3.10.6)\n",
      "Requirement already satisfied: langchain-core<0.4.0,>=0.3.6 in c:\\users\\aisw-203-117\\desktop\\st\\폴리텍\\llm\\py311\\lib\\site-packages (from langchain) (0.3.6)\n",
      "Requirement already satisfied: langchain-text-splitters<0.4.0,>=0.3.0 in c:\\users\\aisw-203-117\\desktop\\st\\폴리텍\\llm\\py311\\lib\\site-packages (from langchain) (0.3.0)\n",
      "Requirement already satisfied: langsmith<0.2.0,>=0.1.17 in c:\\users\\aisw-203-117\\desktop\\st\\폴리텍\\llm\\py311\\lib\\site-packages (from langchain) (0.1.128)\n",
      "Requirement already satisfied: numpy<2,>=1 in c:\\users\\aisw-203-117\\desktop\\st\\폴리텍\\llm\\py311\\lib\\site-packages (from langchain) (1.26.4)\n",
      "Requirement already satisfied: pydantic<3.0.0,>=2.7.4 in c:\\users\\aisw-203-117\\desktop\\st\\폴리텍\\llm\\py311\\lib\\site-packages (from langchain) (2.9.2)\n",
      "Requirement already satisfied: requests<3,>=2 in c:\\users\\aisw-203-117\\desktop\\st\\폴리텍\\llm\\py311\\lib\\site-packages (from langchain) (2.32.3)\n",
      "Requirement already satisfied: tenacity!=8.4.0,<9.0.0,>=8.1.0 in c:\\users\\aisw-203-117\\desktop\\st\\폴리텍\\llm\\py311\\lib\\site-packages (from langchain) (8.5.0)\n",
      "Requirement already satisfied: aiohappyeyeballs>=2.3.0 in c:\\users\\aisw-203-117\\desktop\\st\\폴리텍\\llm\\py311\\lib\\site-packages (from aiohttp<4.0.0,>=3.8.3->langchain) (2.4.0)\n",
      "Requirement already satisfied: aiosignal>=1.1.2 in c:\\users\\aisw-203-117\\desktop\\st\\폴리텍\\llm\\py311\\lib\\site-packages (from aiohttp<4.0.0,>=3.8.3->langchain) (1.3.1)\n",
      "Requirement already satisfied: attrs>=17.3.0 in c:\\users\\aisw-203-117\\desktop\\st\\폴리텍\\llm\\py311\\lib\\site-packages (from aiohttp<4.0.0,>=3.8.3->langchain) (24.2.0)\n",
      "Requirement already satisfied: frozenlist>=1.1.1 in c:\\users\\aisw-203-117\\desktop\\st\\폴리텍\\llm\\py311\\lib\\site-packages (from aiohttp<4.0.0,>=3.8.3->langchain) (1.4.1)\n",
      "Requirement already satisfied: multidict<7.0,>=4.5 in c:\\users\\aisw-203-117\\desktop\\st\\폴리텍\\llm\\py311\\lib\\site-packages (from aiohttp<4.0.0,>=3.8.3->langchain) (6.1.0)\n",
      "Requirement already satisfied: yarl<2.0,>=1.12.0 in c:\\users\\aisw-203-117\\desktop\\st\\폴리텍\\llm\\py311\\lib\\site-packages (from aiohttp<4.0.0,>=3.8.3->langchain) (1.12.1)\n",
      "Requirement already satisfied: jsonpatch<2.0,>=1.33 in c:\\users\\aisw-203-117\\desktop\\st\\폴리텍\\llm\\py311\\lib\\site-packages (from langchain-core<0.4.0,>=0.3.6->langchain) (1.33)\n",
      "Requirement already satisfied: packaging<25,>=23.2 in c:\\users\\aisw-203-117\\desktop\\st\\폴리텍\\llm\\py311\\lib\\site-packages (from langchain-core<0.4.0,>=0.3.6->langchain) (24.1)\n",
      "Requirement already satisfied: typing-extensions>=4.7 in c:\\users\\aisw-203-117\\desktop\\st\\폴리텍\\llm\\py311\\lib\\site-packages (from langchain-core<0.4.0,>=0.3.6->langchain) (4.12.2)\n",
      "Requirement already satisfied: httpx<1,>=0.23.0 in c:\\users\\aisw-203-117\\desktop\\st\\폴리텍\\llm\\py311\\lib\\site-packages (from langsmith<0.2.0,>=0.1.17->langchain) (0.27.2)\n",
      "Requirement already satisfied: orjson<4.0.0,>=3.9.14 in c:\\users\\aisw-203-117\\desktop\\st\\폴리텍\\llm\\py311\\lib\\site-packages (from langsmith<0.2.0,>=0.1.17->langchain) (3.10.7)\n",
      "Requirement already satisfied: annotated-types>=0.6.0 in c:\\users\\aisw-203-117\\desktop\\st\\폴리텍\\llm\\py311\\lib\\site-packages (from pydantic<3.0.0,>=2.7.4->langchain) (0.7.0)\n",
      "Requirement already satisfied: pydantic-core==2.23.4 in c:\\users\\aisw-203-117\\desktop\\st\\폴리텍\\llm\\py311\\lib\\site-packages (from pydantic<3.0.0,>=2.7.4->langchain) (2.23.4)\n",
      "Requirement already satisfied: charset-normalizer<4,>=2 in c:\\users\\aisw-203-117\\desktop\\st\\폴리텍\\llm\\py311\\lib\\site-packages (from requests<3,>=2->langchain) (3.3.2)\n",
      "Requirement already satisfied: idna<4,>=2.5 in c:\\users\\aisw-203-117\\desktop\\st\\폴리텍\\llm\\py311\\lib\\site-packages (from requests<3,>=2->langchain) (3.10)\n",
      "Requirement already satisfied: urllib3<3,>=1.21.1 in c:\\users\\aisw-203-117\\desktop\\st\\폴리텍\\llm\\py311\\lib\\site-packages (from requests<3,>=2->langchain) (2.2.3)\n",
      "Requirement already satisfied: certifi>=2017.4.17 in c:\\users\\aisw-203-117\\desktop\\st\\폴리텍\\llm\\py311\\lib\\site-packages (from requests<3,>=2->langchain) (2024.8.30)\n",
      "Requirement already satisfied: greenlet!=0.4.17 in c:\\users\\aisw-203-117\\desktop\\st\\폴리텍\\llm\\py311\\lib\\site-packages (from SQLAlchemy<3,>=1.4->langchain) (3.1.1)\n",
      "Requirement already satisfied: anyio in c:\\users\\aisw-203-117\\desktop\\st\\폴리텍\\llm\\py311\\lib\\site-packages (from httpx<1,>=0.23.0->langsmith<0.2.0,>=0.1.17->langchain) (4.6.0)\n",
      "Requirement already satisfied: httpcore==1.* in c:\\users\\aisw-203-117\\desktop\\st\\폴리텍\\llm\\py311\\lib\\site-packages (from httpx<1,>=0.23.0->langsmith<0.2.0,>=0.1.17->langchain) (1.0.5)\n",
      "Requirement already satisfied: sniffio in c:\\users\\aisw-203-117\\desktop\\st\\폴리텍\\llm\\py311\\lib\\site-packages (from httpx<1,>=0.23.0->langsmith<0.2.0,>=0.1.17->langchain) (1.3.1)\n",
      "Requirement already satisfied: h11<0.15,>=0.13 in c:\\users\\aisw-203-117\\desktop\\st\\폴리텍\\llm\\py311\\lib\\site-packages (from httpcore==1.*->httpx<1,>=0.23.0->langsmith<0.2.0,>=0.1.17->langchain) (0.14.0)\n",
      "Requirement already satisfied: jsonpointer>=1.9 in c:\\users\\aisw-203-117\\desktop\\st\\폴리텍\\llm\\py311\\lib\\site-packages (from jsonpatch<2.0,>=1.33->langchain-core<0.4.0,>=0.3.6->langchain) (3.0.0)\n"
     ]
    },
    {
     "name": "stderr",
     "output_type": "stream",
     "text": [
      "\n",
      "[notice] A new release of pip is available: 23.2.1 -> 24.2\n",
      "[notice] To update, run: python.exe -m pip install --upgrade pip\n"
     ]
    },
    {
     "name": "stdout",
     "output_type": "stream",
     "text": [
      "Requirement already satisfied: langchain_community in c:\\users\\aisw-203-117\\desktop\\st\\폴리텍\\llm\\py311\\lib\\site-packages (0.3.1)\n",
      "Requirement already satisfied: PyYAML>=5.3 in c:\\users\\aisw-203-117\\desktop\\st\\폴리텍\\llm\\py311\\lib\\site-packages (from langchain_community) (6.0.2)\n",
      "Requirement already satisfied: SQLAlchemy<3,>=1.4 in c:\\users\\aisw-203-117\\desktop\\st\\폴리텍\\llm\\py311\\lib\\site-packages (from langchain_community) (2.0.35)\n",
      "Requirement already satisfied: aiohttp<4.0.0,>=3.8.3 in c:\\users\\aisw-203-117\\desktop\\st\\폴리텍\\llm\\py311\\lib\\site-packages (from langchain_community) (3.10.6)\n",
      "Requirement already satisfied: dataclasses-json<0.7,>=0.5.7 in c:\\users\\aisw-203-117\\desktop\\st\\폴리텍\\llm\\py311\\lib\\site-packages (from langchain_community) (0.6.7)\n",
      "Requirement already satisfied: langchain<0.4.0,>=0.3.1 in c:\\users\\aisw-203-117\\desktop\\st\\폴리텍\\llm\\py311\\lib\\site-packages (from langchain_community) (0.3.1)\n",
      "Requirement already satisfied: langchain-core<0.4.0,>=0.3.6 in c:\\users\\aisw-203-117\\desktop\\st\\폴리텍\\llm\\py311\\lib\\site-packages (from langchain_community) (0.3.6)\n",
      "Requirement already satisfied: langsmith<0.2.0,>=0.1.125 in c:\\users\\aisw-203-117\\desktop\\st\\폴리텍\\llm\\py311\\lib\\site-packages (from langchain_community) (0.1.128)\n",
      "Requirement already satisfied: numpy<2,>=1 in c:\\users\\aisw-203-117\\desktop\\st\\폴리텍\\llm\\py311\\lib\\site-packages (from langchain_community) (1.26.4)\n",
      "Requirement already satisfied: pydantic-settings<3.0.0,>=2.4.0 in c:\\users\\aisw-203-117\\desktop\\st\\폴리텍\\llm\\py311\\lib\\site-packages (from langchain_community) (2.5.2)\n",
      "Requirement already satisfied: requests<3,>=2 in c:\\users\\aisw-203-117\\desktop\\st\\폴리텍\\llm\\py311\\lib\\site-packages (from langchain_community) (2.32.3)\n",
      "Requirement already satisfied: tenacity!=8.4.0,<9.0.0,>=8.1.0 in c:\\users\\aisw-203-117\\desktop\\st\\폴리텍\\llm\\py311\\lib\\site-packages (from langchain_community) (8.5.0)\n",
      "Requirement already satisfied: aiohappyeyeballs>=2.3.0 in c:\\users\\aisw-203-117\\desktop\\st\\폴리텍\\llm\\py311\\lib\\site-packages (from aiohttp<4.0.0,>=3.8.3->langchain_community) (2.4.0)\n",
      "Requirement already satisfied: aiosignal>=1.1.2 in c:\\users\\aisw-203-117\\desktop\\st\\폴리텍\\llm\\py311\\lib\\site-packages (from aiohttp<4.0.0,>=3.8.3->langchain_community) (1.3.1)\n",
      "Requirement already satisfied: attrs>=17.3.0 in c:\\users\\aisw-203-117\\desktop\\st\\폴리텍\\llm\\py311\\lib\\site-packages (from aiohttp<4.0.0,>=3.8.3->langchain_community) (24.2.0)\n",
      "Requirement already satisfied: frozenlist>=1.1.1 in c:\\users\\aisw-203-117\\desktop\\st\\폴리텍\\llm\\py311\\lib\\site-packages (from aiohttp<4.0.0,>=3.8.3->langchain_community) (1.4.1)\n",
      "Requirement already satisfied: multidict<7.0,>=4.5 in c:\\users\\aisw-203-117\\desktop\\st\\폴리텍\\llm\\py311\\lib\\site-packages (from aiohttp<4.0.0,>=3.8.3->langchain_community) (6.1.0)\n",
      "Requirement already satisfied: yarl<2.0,>=1.12.0 in c:\\users\\aisw-203-117\\desktop\\st\\폴리텍\\llm\\py311\\lib\\site-packages (from aiohttp<4.0.0,>=3.8.3->langchain_community) (1.12.1)\n",
      "Requirement already satisfied: marshmallow<4.0.0,>=3.18.0 in c:\\users\\aisw-203-117\\desktop\\st\\폴리텍\\llm\\py311\\lib\\site-packages (from dataclasses-json<0.7,>=0.5.7->langchain_community) (3.22.0)\n",
      "Requirement already satisfied: typing-inspect<1,>=0.4.0 in c:\\users\\aisw-203-117\\desktop\\st\\폴리텍\\llm\\py311\\lib\\site-packages (from dataclasses-json<0.7,>=0.5.7->langchain_community) (0.9.0)\n",
      "Requirement already satisfied: langchain-text-splitters<0.4.0,>=0.3.0 in c:\\users\\aisw-203-117\\desktop\\st\\폴리텍\\llm\\py311\\lib\\site-packages (from langchain<0.4.0,>=0.3.1->langchain_community) (0.3.0)\n",
      "Requirement already satisfied: pydantic<3.0.0,>=2.7.4 in c:\\users\\aisw-203-117\\desktop\\st\\폴리텍\\llm\\py311\\lib\\site-packages (from langchain<0.4.0,>=0.3.1->langchain_community) (2.9.2)\n",
      "Requirement already satisfied: jsonpatch<2.0,>=1.33 in c:\\users\\aisw-203-117\\desktop\\st\\폴리텍\\llm\\py311\\lib\\site-packages (from langchain-core<0.4.0,>=0.3.6->langchain_community) (1.33)\n",
      "Requirement already satisfied: packaging<25,>=23.2 in c:\\users\\aisw-203-117\\desktop\\st\\폴리텍\\llm\\py311\\lib\\site-packages (from langchain-core<0.4.0,>=0.3.6->langchain_community) (24.1)\n",
      "Requirement already satisfied: typing-extensions>=4.7 in c:\\users\\aisw-203-117\\desktop\\st\\폴리텍\\llm\\py311\\lib\\site-packages (from langchain-core<0.4.0,>=0.3.6->langchain_community) (4.12.2)\n",
      "Requirement already satisfied: httpx<1,>=0.23.0 in c:\\users\\aisw-203-117\\desktop\\st\\폴리텍\\llm\\py311\\lib\\site-packages (from langsmith<0.2.0,>=0.1.125->langchain_community) (0.27.2)\n",
      "Requirement already satisfied: orjson<4.0.0,>=3.9.14 in c:\\users\\aisw-203-117\\desktop\\st\\폴리텍\\llm\\py311\\lib\\site-packages (from langsmith<0.2.0,>=0.1.125->langchain_community) (3.10.7)\n",
      "Requirement already satisfied: python-dotenv>=0.21.0 in c:\\users\\aisw-203-117\\desktop\\st\\폴리텍\\llm\\py311\\lib\\site-packages (from pydantic-settings<3.0.0,>=2.4.0->langchain_community) (1.0.1)\n",
      "Requirement already satisfied: charset-normalizer<4,>=2 in c:\\users\\aisw-203-117\\desktop\\st\\폴리텍\\llm\\py311\\lib\\site-packages (from requests<3,>=2->langchain_community) (3.3.2)\n",
      "Requirement already satisfied: idna<4,>=2.5 in c:\\users\\aisw-203-117\\desktop\\st\\폴리텍\\llm\\py311\\lib\\site-packages (from requests<3,>=2->langchain_community) (3.10)\n",
      "Requirement already satisfied: urllib3<3,>=1.21.1 in c:\\users\\aisw-203-117\\desktop\\st\\폴리텍\\llm\\py311\\lib\\site-packages (from requests<3,>=2->langchain_community) (2.2.3)\n",
      "Requirement already satisfied: certifi>=2017.4.17 in c:\\users\\aisw-203-117\\desktop\\st\\폴리텍\\llm\\py311\\lib\\site-packages (from requests<3,>=2->langchain_community) (2024.8.30)\n",
      "Requirement already satisfied: greenlet!=0.4.17 in c:\\users\\aisw-203-117\\desktop\\st\\폴리텍\\llm\\py311\\lib\\site-packages (from SQLAlchemy<3,>=1.4->langchain_community) (3.1.1)\n",
      "Requirement already satisfied: anyio in c:\\users\\aisw-203-117\\desktop\\st\\폴리텍\\llm\\py311\\lib\\site-packages (from httpx<1,>=0.23.0->langsmith<0.2.0,>=0.1.125->langchain_community) (4.6.0)\n",
      "Requirement already satisfied: httpcore==1.* in c:\\users\\aisw-203-117\\desktop\\st\\폴리텍\\llm\\py311\\lib\\site-packages (from httpx<1,>=0.23.0->langsmith<0.2.0,>=0.1.125->langchain_community) (1.0.5)\n",
      "Requirement already satisfied: sniffio in c:\\users\\aisw-203-117\\desktop\\st\\폴리텍\\llm\\py311\\lib\\site-packages (from httpx<1,>=0.23.0->langsmith<0.2.0,>=0.1.125->langchain_community) (1.3.1)\n",
      "Requirement already satisfied: h11<0.15,>=0.13 in c:\\users\\aisw-203-117\\desktop\\st\\폴리텍\\llm\\py311\\lib\\site-packages (from httpcore==1.*->httpx<1,>=0.23.0->langsmith<0.2.0,>=0.1.125->langchain_community) (0.14.0)\n",
      "Requirement already satisfied: jsonpointer>=1.9 in c:\\users\\aisw-203-117\\desktop\\st\\폴리텍\\llm\\py311\\lib\\site-packages (from jsonpatch<2.0,>=1.33->langchain-core<0.4.0,>=0.3.6->langchain_community) (3.0.0)\n",
      "Requirement already satisfied: annotated-types>=0.6.0 in c:\\users\\aisw-203-117\\desktop\\st\\폴리텍\\llm\\py311\\lib\\site-packages (from pydantic<3.0.0,>=2.7.4->langchain<0.4.0,>=0.3.1->langchain_community) (0.7.0)\n",
      "Requirement already satisfied: pydantic-core==2.23.4 in c:\\users\\aisw-203-117\\desktop\\st\\폴리텍\\llm\\py311\\lib\\site-packages (from pydantic<3.0.0,>=2.7.4->langchain<0.4.0,>=0.3.1->langchain_community) (2.23.4)\n",
      "Requirement already satisfied: mypy-extensions>=0.3.0 in c:\\users\\aisw-203-117\\desktop\\st\\폴리텍\\llm\\py311\\lib\\site-packages (from typing-inspect<1,>=0.4.0->dataclasses-json<0.7,>=0.5.7->langchain_community) (1.0.0)\n"
     ]
    },
    {
     "name": "stderr",
     "output_type": "stream",
     "text": [
      "\n",
      "[notice] A new release of pip is available: 23.2.1 -> 24.2\n",
      "[notice] To update, run: python.exe -m pip install --upgrade pip\n"
     ]
    },
    {
     "name": "stdout",
     "output_type": "stream",
     "text": [
      "Requirement already satisfied: PyPDF in c:\\users\\aisw-203-117\\desktop\\st\\폴리텍\\llm\\py311\\lib\\site-packages (5.0.0)\n"
     ]
    },
    {
     "name": "stderr",
     "output_type": "stream",
     "text": [
      "\n",
      "[notice] A new release of pip is available: 23.2.1 -> 24.2\n",
      "[notice] To update, run: python.exe -m pip install --upgrade pip\n"
     ]
    },
    {
     "name": "stdout",
     "output_type": "stream",
     "text": [
      "Requirement already satisfied: ctransformers in c:\\users\\aisw-203-117\\desktop\\st\\폴리텍\\llm\\py311\\lib\\site-packages (0.2.27)\n",
      "Requirement already satisfied: huggingface-hub in c:\\users\\aisw-203-117\\desktop\\st\\폴리텍\\llm\\py311\\lib\\site-packages (from ctransformers) (0.25.1)\n",
      "Requirement already satisfied: py-cpuinfo<10.0.0,>=9.0.0 in c:\\users\\aisw-203-117\\desktop\\st\\폴리텍\\llm\\py311\\lib\\site-packages (from ctransformers) (9.0.0)\n",
      "Requirement already satisfied: filelock in c:\\users\\aisw-203-117\\desktop\\st\\폴리텍\\llm\\py311\\lib\\site-packages (from huggingface-hub->ctransformers) (3.16.1)\n",
      "Requirement already satisfied: fsspec>=2023.5.0 in c:\\users\\aisw-203-117\\desktop\\st\\폴리텍\\llm\\py311\\lib\\site-packages (from huggingface-hub->ctransformers) (2024.9.0)\n",
      "Requirement already satisfied: packaging>=20.9 in c:\\users\\aisw-203-117\\desktop\\st\\폴리텍\\llm\\py311\\lib\\site-packages (from huggingface-hub->ctransformers) (24.1)\n",
      "Requirement already satisfied: pyyaml>=5.1 in c:\\users\\aisw-203-117\\desktop\\st\\폴리텍\\llm\\py311\\lib\\site-packages (from huggingface-hub->ctransformers) (6.0.2)\n",
      "Requirement already satisfied: requests in c:\\users\\aisw-203-117\\desktop\\st\\폴리텍\\llm\\py311\\lib\\site-packages (from huggingface-hub->ctransformers) (2.32.3)\n",
      "Requirement already satisfied: tqdm>=4.42.1 in c:\\users\\aisw-203-117\\desktop\\st\\폴리텍\\llm\\py311\\lib\\site-packages (from huggingface-hub->ctransformers) (4.66.5)\n",
      "Requirement already satisfied: typing-extensions>=3.7.4.3 in c:\\users\\aisw-203-117\\desktop\\st\\폴리텍\\llm\\py311\\lib\\site-packages (from huggingface-hub->ctransformers) (4.12.2)\n",
      "Requirement already satisfied: colorama in c:\\users\\aisw-203-117\\desktop\\st\\폴리텍\\llm\\py311\\lib\\site-packages (from tqdm>=4.42.1->huggingface-hub->ctransformers) (0.4.6)\n",
      "Requirement already satisfied: charset-normalizer<4,>=2 in c:\\users\\aisw-203-117\\desktop\\st\\폴리텍\\llm\\py311\\lib\\site-packages (from requests->huggingface-hub->ctransformers) (3.3.2)\n",
      "Requirement already satisfied: idna<4,>=2.5 in c:\\users\\aisw-203-117\\desktop\\st\\폴리텍\\llm\\py311\\lib\\site-packages (from requests->huggingface-hub->ctransformers) (3.10)\n",
      "Requirement already satisfied: urllib3<3,>=1.21.1 in c:\\users\\aisw-203-117\\desktop\\st\\폴리텍\\llm\\py311\\lib\\site-packages (from requests->huggingface-hub->ctransformers) (2.2.3)\n",
      "Requirement already satisfied: certifi>=2017.4.17 in c:\\users\\aisw-203-117\\desktop\\st\\폴리텍\\llm\\py311\\lib\\site-packages (from requests->huggingface-hub->ctransformers) (2024.8.30)\n"
     ]
    },
    {
     "name": "stderr",
     "output_type": "stream",
     "text": [
      "\n",
      "[notice] A new release of pip is available: 23.2.1 -> 24.2\n",
      "[notice] To update, run: python.exe -m pip install --upgrade pip\n"
     ]
    },
    {
     "name": "stdout",
     "output_type": "stream",
     "text": [
      "Collecting faiss-cpu\n",
      "  Obtaining dependency information for faiss-cpu from https://files.pythonhosted.org/packages/4c/e1/657eb537027b2d7aa0f0ccfc58aee6fe0252ea3d9e49472aecc5c7f30992/faiss_cpu-1.8.0.post1-cp311-cp311-win_amd64.whl.metadata\n",
      "  Downloading faiss_cpu-1.8.0.post1-cp311-cp311-win_amd64.whl.metadata (3.8 kB)\n",
      "Requirement already satisfied: numpy<2.0,>=1.0 in c:\\users\\aisw-203-117\\desktop\\st\\폴리텍\\llm\\py311\\lib\\site-packages (from faiss-cpu) (1.26.4)\n",
      "Requirement already satisfied: packaging in c:\\users\\aisw-203-117\\desktop\\st\\폴리텍\\llm\\py311\\lib\\site-packages (from faiss-cpu) (24.1)\n",
      "Downloading faiss_cpu-1.8.0.post1-cp311-cp311-win_amd64.whl (14.6 MB)\n",
      "   ---------------------------------------- 0.0/14.6 MB ? eta -:--:--\n",
      "   ---------------------------------------- 0.0/14.6 MB ? eta -:--:--\n",
      "   ---------------------------------------- 0.1/14.6 MB 1.1 MB/s eta 0:00:14\n",
      "   - -------------------------------------- 0.7/14.6 MB 7.7 MB/s eta 0:00:02\n",
      "   -- ------------------------------------- 1.0/14.6 MB 9.5 MB/s eta 0:00:02\n",
      "   -- ------------------------------------- 1.0/14.6 MB 9.5 MB/s eta 0:00:02\n",
      "   -- ------------------------------------- 1.0/14.6 MB 9.5 MB/s eta 0:00:02\n",
      "   -- ------------------------------------- 1.0/14.6 MB 9.5 MB/s eta 0:00:02\n",
      "   -- ------------------------------------- 1.0/14.6 MB 9.5 MB/s eta 0:00:02\n",
      "   -- ------------------------------------- 1.0/14.6 MB 9.5 MB/s eta 0:00:02\n",
      "   ---- ----------------------------------- 1.6/14.6 MB 3.9 MB/s eta 0:00:04\n",
      "   -------- ------------------------------- 3.1/14.6 MB 6.6 MB/s eta 0:00:02\n",
      "   -------------- ------------------------- 5.4/14.6 MB 10.5 MB/s eta 0:00:01\n",
      "   ----------------------- ---------------- 8.6/14.6 MB 15.7 MB/s eta 0:00:01\n",
      "   ----------------------------- ---------- 10.9/14.6 MB 19.8 MB/s eta 0:00:01\n",
      "   ------------------------------------- -- 13.7/14.6 MB 59.5 MB/s eta 0:00:01\n",
      "   ---------------------------------------  14.6/14.6 MB 59.5 MB/s eta 0:00:01\n",
      "   ---------------------------------------- 14.6/14.6 MB 46.7 MB/s eta 0:00:00\n",
      "Installing collected packages: faiss-cpu\n",
      "Successfully installed faiss-cpu-1.8.0.post1\n"
     ]
    },
    {
     "name": "stderr",
     "output_type": "stream",
     "text": [
      "\n",
      "[notice] A new release of pip is available: 23.2.1 -> 24.2\n",
      "[notice] To update, run: python.exe -m pip install --upgrade pip\n"
     ]
    }
   ],
   "source": [
    "!pip install langchain\n",
    "!pip install langchain_community\n",
    "!pip install PyPDF\n",
    "!pip install ctransformers\n",
    "!pip install faiss-cpu"
   ]
  },
  {
   "cell_type": "code",
   "execution_count": 3,
   "metadata": {},
   "outputs": [
    {
     "data": {
      "text/plain": [
       "Document(metadata={'source': 'law1.pdf', 'page': 0}, page_content='제6조(처분을 허락한 재산) 법정대리인이 범위를 정하여 처분을 허락한 재산은 미성년자가 임의로 처분할 수 있다.\\n \\n제7조(동의와 허락의 취소) 법정대리인은 미성년자가 아직 법률행위를 하기 전에는 전2조의 동의와 허락을 취소할 수\\n있다.\\n \\n제8조(영업의 허락) ①미성년자가 법정대리인으로부터 허락을 얻은 특정한 영업에 관하여는 성년자와 동일한 행위능력\\n이 있다.\\n②법정대리인은 전항의 허락을 취소 또는 제한할 수 있다. 그러나 선의의 제삼자에게 대항하지 못한다.')"
      ]
     },
     "execution_count": 3,
     "metadata": {},
     "output_type": "execute_result"
    }
   ],
   "source": [
    "from langchain.document_loaders import PyPDFLoader\n",
    "from langchain.text_splitter import (\n",
    "    RecursiveCharacterTextSplitter,\n",
    ")\n",
    " \n",
    "loader = PyPDFLoader(\"law1.pdf\")\n",
    " \n",
    "pages = loader.load_and_split()\n",
    " \n",
    "text_splitter = RecursiveCharacterTextSplitter(  \n",
    "    separators = [\"\\n \\n\", \"\\n\"],    \n",
    "    chunk_size = 400,\n",
    "    chunk_overlap  = 100,\n",
    "    length_function = len,\n",
    "    is_separator_regex = False,\n",
    ")\n",
    "texts = text_splitter.split_documents(pages)\n",
    "texts[2]"
   ]
  },
  {
   "cell_type": "code",
   "execution_count": 4,
   "metadata": {},
   "outputs": [
    {
     "name": "stderr",
     "output_type": "stream",
     "text": [
      "C:\\Users\\AISW-203-117\\AppData\\Local\\Temp\\ipykernel_11992\\2814393515.py:2: LangChainDeprecationWarning: The class `HuggingFaceEmbeddings` was deprecated in LangChain 0.2.2 and will be removed in 1.0. An updated version of the class exists in the :class:`~langchain-huggingface package and should be used instead. To use it run `pip install -U :class:`~langchain-huggingface` and import as `from :class:`~langchain_huggingface import HuggingFaceEmbeddings``.\n",
      "  embedding_function = SentenceTransformerEmbeddings(model_name=\"jhgan/ko-sroberta-multitask\")\n",
      "c:\\Users\\AISW-203-117\\Desktop\\ST\\폴리텍\\LLM\\py311\\Lib\\site-packages\\sentence_transformers\\cross_encoder\\CrossEncoder.py:13: TqdmWarning: IProgress not found. Please update jupyter and ipywidgets. See https://ipywidgets.readthedocs.io/en/stable/user_install.html\n",
      "  from tqdm.autonotebook import tqdm, trange\n",
      "c:\\Users\\AISW-203-117\\Desktop\\ST\\폴리텍\\LLM\\py311\\Lib\\site-packages\\transformers\\tokenization_utils_base.py:1617: FutureWarning: `clean_up_tokenization_spaces` was not set. It will be set to `True` by default. This behavior will be deprecated in transformers v4.45, and will be then set to `False` by default. For more details check this issue: https://github.com/huggingface/transformers/issues/31884\n",
      "  warnings.warn(\n"
     ]
    }
   ],
   "source": [
    "from langchain.embeddings.sentence_transformer import SentenceTransformerEmbeddings\n",
    "embedding_function = SentenceTransformerEmbeddings(model_name=\"jhgan/ko-sroberta-multitask\")"
   ]
  },
  {
   "cell_type": "code",
   "execution_count": 5,
   "metadata": {},
   "outputs": [],
   "source": [
    "from langchain.vectorstores import FAISS\n",
    "db = FAISS.from_documents(texts, embedding_function)"
   ]
  },
  {
   "cell_type": "code",
   "execution_count": 6,
   "metadata": {},
   "outputs": [
    {
     "name": "stdout",
     "output_type": "stream",
     "text": [
      "제2조(신의성실) ①권리의 행사와 의무의 이행은 신의에 좇아 성실히 하여야 한다.\n",
      "②권리는 남용하지 못한다.\n",
      " \n",
      "       제2장 인\n",
      "         제1절 능력\n",
      " \n",
      "제3조(권리능력의 존속기간) 사람은 생존한 동안 권리와 의무의 주체가 된다.\n",
      " \n",
      "제4조(성년) 사람은 19세로 성년에 이르게 된다.\n",
      "[전문개정 2011. 3. 7.]\n",
      " \n",
      "제5조(미성년자의 능력) ①미성년자가 법률행위를 함에는 법정대리인의 동의를 얻어야 한다. 그러나 권리만을 얻거나\n",
      "의무만을 면하는 행위는 그러하지 아니하다.\n",
      "②전항의 규정에 위반한 행위는 취소할 수 있다.\n",
      " \n",
      "제6조(처분을 허락한 재산) 법정대리인이 범위를 정하여 처분을 허락한 재산은 미성년자가 임의로 처분할 수 있다.\n"
     ]
    }
   ],
   "source": [
    "query = \"신의성실\"\n",
    "docs = db.similarity_search(query)\n",
    "print(docs[0].page_content)"
   ]
  },
  {
   "cell_type": "code",
   "execution_count": 7,
   "metadata": {},
   "outputs": [
    {
     "name": "stdout",
     "output_type": "stream",
     "text": [
      "{'source': 'law1.pdf', 'page': 0}\n"
     ]
    }
   ],
   "source": [
    "print(docs[0].metadata)"
   ]
  },
  {
   "cell_type": "code",
   "execution_count": 8,
   "metadata": {},
   "outputs": [],
   "source": [
    "from langchain_community.chat_models import ChatOllama\n",
    "llm = ChatOllama(model=\"gemma2:9b\", temperature=0, base_url=\"http://127.0.0.1:11434/\") #http://127.0.0.1:11434"
   ]
  },
  {
   "cell_type": "code",
   "execution_count": 10,
   "metadata": {},
   "outputs": [
    {
     "name": "stdout",
     "output_type": "stream",
     "text": [
      "민법 제2조와 제2장 인 제1절 능력 제2조에 신의성실의 원칙이 명시되어 있습니다.  \n",
      "\n"
     ]
    }
   ],
   "source": [
    "#RAG\n",
    "from langchain.chains import RetrievalQA\n",
    "question = \"\"\"신의성실의 원칙은 민법 몇 조이니? 한글로 설명해줘\"\"\"\n",
    "qa_chain = RetrievalQA.from_chain_type(llm,retriever=db.as_retriever())\n",
    "result = qa_chain({\"query\": question})\n",
    "print(result['result'])"
   ]
  },
  {
   "cell_type": "code",
   "execution_count": 11,
   "metadata": {},
   "outputs": [
    {
     "name": "stderr",
     "output_type": "stream",
     "text": [
      "C:\\Users\\AISW-203-117\\AppData\\Local\\Temp\\ipykernel_11992\\3393698641.py:2: LangChainDeprecationWarning: The method `BaseChatModel.predict` was deprecated in langchain-core 0.1.7 and will be removed in 1.0. Use :meth:`~invoke` instead.\n",
      "  result = llm.predict(\"신의성실의 원칙에 대해 설명해줘\")\n"
     ]
    },
    {
     "name": "stdout",
     "output_type": "stream",
     "text": [
      "## 신의 성실의 원칙: 믿음과 행동의 조화\n",
      "\n",
      "신의 성실은 **\"신을 향한 진심 어린 헌신과 그 가르침에 대한 순종\"** 을 의미합니다. 이는 단순히 종교적인 의식이나 절차를 따르는 것을 넘어, 신앙이 실생활에 적용되어 삶의 방향성과 행동을 지배하는 원칙입니다.\n",
      "\n",
      "신의 성실은 크게 두 가지 측면에서 이해할 수 있습니다:\n",
      "\n",
      "**1. 내적 헌신:**\n",
      "\n",
      "* **진심 어린 신념**: 신을 진심으로 믿고 그 존재와 가르침에 대한 확신이 있어야 합니다.\n",
      "* **끊임없는 경배**: 신께 감사를 표하고, 그의 은혜를 받았음을 인지하며 항상 기도하고 경배하는 마음을 가져야 합니다.\n",
      "* **성령의 영향**: 성령의 가르침을 따르고 그 안내에 따라 살아가려는 노력이 필요합니다.\n",
      "\n",
      "**2. 외부 행동:**\n",
      "\n",
      "* **신의 명령 준수**: 신의 말씀과 계명을 따르고, 그의 원하는 방식으로 살아가야 합니다.\n",
      "* **선행**: 타인에게 사랑과 관심을 베풀고, 불평등을 해소하며 사회적 공익에 기여해야 합니다.\n",
      "* **정직함과 윤리**: 모든 일에서 진실성과 정직함을 유지하고, 도덕적인 원칙에 따라 행동해야 합니다.\n",
      "\n",
      "신의 성실은 단순히 규율이나 의무를 따르는 것이 아니라, **진정한 행복과 만족**을 얻기 위한 길입니다. 신께서 주신 가르침을 실천함으로써 우리는 더 나은 사람이 되고 세상에 긍정적인 영향을 미칠 수 있습니다.\n",
      "\n",
      "\n",
      "\n"
     ]
    }
   ],
   "source": [
    "#일반 쿼리\n",
    "result = llm.predict(\"신의성실의 원칙에 대해 설명해줘\")\n",
    "print(result)"
   ]
  },
  {
   "cell_type": "code",
   "execution_count": 12,
   "metadata": {},
   "outputs": [
    {
     "name": "stderr",
     "output_type": "stream",
     "text": [
      "c:\\Users\\AISW-203-117\\Desktop\\ST\\폴리텍\\LLM\\py311\\Lib\\site-packages\\transformers\\tokenization_utils_base.py:1617: FutureWarning: `clean_up_tokenization_spaces` was not set. It will be set to `True` by default. This behavior will be deprecated in transformers v4.45, and will be then set to `False` by default. For more details check this issue: https://github.com/huggingface/transformers/issues/31884\n",
      "  warnings.warn(\n"
     ]
    }
   ],
   "source": [
    "from langchain.document_loaders import PyPDFLoader\n",
    "from langchain.text_splitter import (\n",
    "    RecursiveCharacterTextSplitter,\n",
    ")\n",
    " \n",
    "with open('law1.txt', 'r', encoding='utf-8') as file:\n",
    "    text = file.read()\n",
    "   \n",
    "text_splitter = RecursiveCharacterTextSplitter(  \n",
    "    separators = [\"\\n\",\"\\n\\n\"],    \n",
    "    chunk_size = 100,\n",
    "    chunk_overlap  = 50,\n",
    "    length_function = len,\n",
    "    is_separator_regex = False,\n",
    ")\n",
    "texts = text_splitter.create_documents([text])\n",
    "texts\n",
    " \n",
    "from langchain.embeddings.sentence_transformer import SentenceTransformerEmbeddings\n",
    "embedding_function = SentenceTransformerEmbeddings(model_name=\"jhgan/ko-sroberta-multitask\")\n",
    " "
   ]
  },
  {
   "cell_type": "code",
   "execution_count": 19,
   "metadata": {},
   "outputs": [
    {
     "data": {
      "text/plain": [
       "[Document(metadata={}, page_content='민법 [시행 2023. 6. 28.] [법률 제19098호, 2022. 12. 27., 일부개정] 법무부 (법무심의관실) 02-2110-3164 \\n\\n제1편 총칙 \\n\\n\\n제1장 통칙'),\n",
       " Document(metadata={}, page_content='제1편 총칙 \\n\\n\\n제1장 통칙\\n제1조(법원) 민사에 관하여 법률에 규정이 없으면 관습법에 의하고 관습법이 없으면 조리에 의한다.'),\n",
       " Document(metadata={}, page_content='\\n제1046조(분리명령과 채권자 등에 대한 공고, 최고) ①법원이 전조의 청구에 의하여 재산의 분리를 명한 때에는 그 청 구자는 5일내에 일반상속채권자와 유증받은 자에 대하여 재산분리의 명령있은 사실과 일정한 기간내에 그 채권 또 는 수증을 신고할 것을 공고하여야 한다. 그 기간은 2월 이상이어야 한다. ②제88조제2항, 제3항과 제89조의 규정은 전항의 경우에 준용한다.'),\n",
       " Document(metadata={}, page_content='\\n제908조의8(준용규정) 친양자에 관하여 이 관에 특별한 규정이 있는 경우를 제외하고는 그 성질에 반하지 아니하는 범 위 안에서 양자에 관한 규정을 준용한다. [본조신설 2005. 3. 31.] '),\n",
       " Document(metadata={}, page_content='\\n제904조(준용규정) 사기 또는 강박으로 인한 파양 취소 청구권의 소멸에 관하여는 제823조를 준용하고, 협의상 파양의 성립에 관하여는 제878조를 준용한다. [전문개정 2012. 2. 10.]   ')]"
      ]
     },
     "execution_count": 19,
     "metadata": {},
     "output_type": "execute_result"
    }
   ],
   "source": [
    "from langchain.vectorstores import FAISS\n",
    "db = FAISS.from_documents(texts, embedding_function )\n",
    " \n",
    "retriever = db.as_retriever(search_type=\"similarity\", search_kwargs={'k':5, 'fetch_k': 100})\n",
    "retriever.get_relevant_documents(\"민법을 설명해주세요.\")\n",
    " "
   ]
  },
  {
   "cell_type": "code",
   "execution_count": 14,
   "metadata": {},
   "outputs": [
    {
     "name": "stdout",
     "output_type": "stream",
     "text": [
      "\n",
      "제768조(혈족의 정의) 자기의 직계존속과 직계비속을 직계혈족이라 하고 자기의 형제자매와 형제자매의 직계비속, 직 계존속의 형제자매 및 그 형제자매의 직계비속을 방계혈족이라 한다. <개정 1990. 1. 13.>\n"
     ]
    }
   ],
   "source": [
    "query = \"혈족을 설명해주세요.\"\n",
    "docs = db.similarity_search(query)\n",
    "print(docs[0].page_content)"
   ]
  },
  {
   "cell_type": "code",
   "execution_count": 21,
   "metadata": {},
   "outputs": [
    {
     "data": {
      "text/markdown": [
       "상속은 사람이 사망했을 때 그 사람의 재산과 권리, 의무가 법적으로 이어지는 것을 말합니다.  \n",
       "\n",
       "\n",
       "제공된 법률 조항들을 통해 상속에 대한 정보를 얻을 수 있습니다. 예를 들어, 제1005조는 상속인이 피상속인의 재산에 관한 모든 권리와 의무를 승계한다고 명시하고 있습니다. 또한, 제1000조는 상속 순위를 규정하며, 직계비속, 직계존속, 형제자매 등의 순서로 상속자가 결정됩니다.  \n"
      ],
      "text/plain": [
       "<IPython.core.display.Markdown object>"
      ]
     },
     "execution_count": 21,
     "metadata": {},
     "output_type": "execute_result"
    }
   ],
   "source": [
    "from langchain.prompts import ChatPromptTemplate\n",
    "from langchain.schema.runnable import RunnableMap\n",
    " \n",
    "template = \"\"\"\n",
    "너는 민법 전문가야. 대답은 항상 한국어로 해줘.\n",
    "Answer the question as based only on the following context:\n",
    "{context}\n",
    " \n",
    "Question: {question}\n",
    "\"\"\"\n",
    " \n",
    "prompt = ChatPromptTemplate.from_template(template)\n",
    " \n",
    "# llm 정의\n",
    " \n",
    "from langchain_community.chat_models import ChatOllama\n",
    "llm = ChatOllama(model=\"gemma2:9b\", temperature=0, base_url=\"http://127.0.0.1:11434/\") #http://127.0.0.1:11434\n",
    " \n",
    "from langchain.schema.runnable import RunnableMap\n",
    "chain = RunnableMap({\n",
    "    \"context\": lambda x: retriever.get_relevant_documents(x['question']),\n",
    "    \"question\": lambda x: x['question']\n",
    "}) | prompt | llm\n",
    " \n",
    "from IPython.display import Markdown\n",
    "Markdown(chain.invoke({'question': \"상속이 뭐야\"}).content)\n",
    " "
   ]
  },
  {
   "cell_type": "code",
   "execution_count": null,
   "metadata": {},
   "outputs": [],
   "source": [
    "import requests\n",
    "url = 'http://apis.data.go.kr/B552584/ArpltnInforInqireSvc/getCtprvnRltmMesureDnsty'\n",
    "params ={'serviceKey' : 디코딩키, 'returnType' : 'json', 'numOfRows' : '100', 'pageNo' : '1', 'sidoName' : '서울', 'ver' : '1.0' }\n",
    " \n",
    "response = requests.get(url, params=params)\n",
    "print(response.content)"
   ]
  },
  {
   "cell_type": "code",
   "execution_count": null,
   "metadata": {},
   "outputs": [],
   "source": [
    "import json\n",
    "import requests\n",
    "sido = \"서울\"\n",
    "url = 'http://apis.data.go.kr/B552584/ArpltnInforInqireSvc/getCtprvnRltmMesureDnsty'\n",
    "params ={'serviceKey' : key, 'returnType' : 'json', 'numOfRows' : '100', 'pageNo' : '1', 'sidoName' : sido, 'ver' : '1.0' }    \n",
    "response = requests.get(url, params=params)\n",
    "content = response.content.decode('utf-8')\n",
    "data = json.loads(content)\n",
    "print(data)\n",
    "\n",
    "\n",
    "def parse_air_quality_data(data):\n",
    "    items = data['response']['body']['items']\n",
    "    air_quality_info = []\n",
    "    for item in items:\n",
    "        info = {\n",
    "            '측정소명': item.get('stationName'),\n",
    "            '날짜': item.get('dataTime'),\n",
    "            'pm10농도': item.get('pm10Value'),\n",
    "            'pm25농도': item.get('pm25Value'),\n",
    "            'so2농도': item.get('so2Value'),\n",
    "            'co농도': item.get('coValue'),\n",
    "            'o3농도': item.get('o3Value'),\n",
    "            'no2농도': item.get('no2Value'),\n",
    "            '통합대기환경수치': item.get('khaiValue'),\n",
    "            '통합대기환경지수': item.get('khaiGrade'),\n",
    "            'pm10등급': item.get('pm10Grade'),\n",
    "            'pm25등급': item.get('pm25Grade')\n",
    "        }\n",
    "        air_quality_info.append(info)\n",
    "    return air_quality_info\n",
    " \n",
    "air_quality_info = parse_air_quality_data(data)\n",
    "print(air_quality_info)"
   ]
  },
  {
   "cell_type": "code",
   "execution_count": null,
   "metadata": {},
   "outputs": [],
   "source": [
    "from langchain_community.vectorstores import FAISS\n",
    "from langchain_text_splitters import RecursiveCharacterTextSplitter\n",
    "from langchain.schema import Document\n",
    " \n",
    "documents = [Document(page_content=\", \".join([f\"{key}: {str(info[key])}\" for key in ['측정소명', '날짜', 'pm10농도', 'pm25농도', '통합대기환경수치']])) for info in air_quality_info]\n",
    "print(documents)"
   ]
  },
  {
   "cell_type": "code",
   "execution_count": 31,
   "metadata": {},
   "outputs": [
    {
     "name": "stdout",
     "output_type": "stream",
     "text": [
      "[{'측정소명': '중구', '날짜': '2024-09-26 15:00', 'pm10농도': '23', 'pm25농도': '18', 'so2농도': '0.003', 'co농도': '0.3', 'o3농도': '0.081', 'no2농도': '0.009', '통합대기환경수치': '92', '통합대기환경지수': '2', 'pm10등급': '1', 'pm25등급': '1'}, {'측정소명': '한강대로', '날짜': '2024-09-26 15:00', 'pm10농도': '41', 'pm25농도': '18', 'so2농도': '0.003', 'co농도': '0.5', 'o3농도': '0.082', 'no2농도': '0.026', '통합대기환경수치': '93', '통합대기환경지수': '2', 'pm10등급': '2', 'pm25등급': '2'}, {'측정소명': '종로구', '날짜': '2024-09-26 15:00', 'pm10농도': '24', 'pm25농도': '16', 'so2농도': '0.003', 'co농도': '0.4', 'o3농도': '0.083', 'no2농도': '0.016', '통합대기환경수치': '94', '통합대기환경지수': '2', 'pm10등급': '1', 'pm25등급': '1'}, {'측정소명': '청계천로', '날짜': '2024-09-26 15:00', 'pm10농도': '30', 'pm25농도': '19', 'so2농도': '0.002', 'co농도': '0.5', 'o3농도': '0.068', 'no2농도': '0.023', '통합대기환경수치': '-', '통합대기환경지수': None, 'pm10등급': None, 'pm25등급': None}, {'측정소명': '종로', '날짜': '2024-09-26 15:00', 'pm10농도': '32', 'pm25농도': '16', 'so2농도': '0.003', 'co농도': '0.5', 'o3농도': '0.067', 'no2농도': '0.024', '통합대기환경수치': '81', '통합대기환경지수': '2', 'pm10등급': '1', 'pm25등급': '1'}, {'측정소명': '용산구', '날짜': '2024-09-26 15:00', 'pm10농도': '28', 'pm25농도': '18', 'so2농도': '0.003', 'co농도': '0.4', 'o3농도': '0.072', 'no2농도': '0.024', '통합대기환경수치': '85', '통합대기환경지수': '2', 'pm10등급': '1', 'pm25등급': '2'}, {'측정소명': '광진구', '날짜': '2024-09-26 15:00', 'pm10농도': '27', 'pm25농도': '20', 'so2농도': '0.003', 'co농도': '0.7', 'o3농도': '0.096', 'no2농도': '0.017', '통합대기환경수치': '115', '통합대기환경지수': '3', 'pm10등급': '1', 'pm25등급': '1'}, {'측정소명': '성동구', '날짜': '2024-09-26 15:00', 'pm10농도': '30', 'pm25농도': '17', 'so2농도': '0.003', 'co농도': '0.4', 'o3농도': '0.081', 'no2농도': '0.021', '통합대기환경수치': '93', '통합대기환경지수': '2', 'pm10등급': '1', 'pm25등급': '1'}, {'측정소명': '강변북로', '날짜': '2024-09-26 15:00', 'pm10농도': '33', 'pm25농도': '-', 'so2농도': '-', 'co농도': '-', 'o3농도': '-', 'no2농도': '-', '통합대기환경수치': '-', '통합대기환경지수': None, 'pm10등급': None, 'pm25등급': None}, {'측정소명': '중랑구', '날짜': '2024-09-26 15:00', 'pm10농도': '26', 'pm25농도': '16', 'so2농도': '0.002', 'co농도': '0.3', 'o3농도': '0.079', 'no2농도': '0.014', '통합대기환경수치': '91', '통합대기환경지수': '2', 'pm10등급': '1', 'pm25등급': '1'}, {'측정소명': '동대문구', '날짜': '2024-09-26 15:00', 'pm10농도': '-', 'pm25농도': '-', 'so2농도': '-', 'co농도': '-', 'o3농도': '-', 'no2농도': '-', '통합대기환경수치': '-', '통합대기환경지수': None, 'pm10등급': None, 'pm25등급': None}, {'측정소명': '홍릉로', '날짜': '2024-09-26 15:00', 'pm10농도': '30', 'pm25농도': '15', 'so2농도': '0.003', 'co농도': '0.5', 'o3농도': '0.066', 'no2농도': '0.030', '통합대기환경수치': '-', '통합대기환경지수': None, 'pm10등급': None, 'pm25등급': None}, {'측정소명': '성북구', '날짜': '2024-09-26 15:00', 'pm10농도': '26', 'pm25농도': '13', 'so2농도': '0.003', 'co농도': '0.3', 'o3농도': '0.074', 'no2농도': '0.014', '통합대기환경수치': '87', '통합대기환경지수': '2', 'pm10등급': '1', 'pm25등급': '1'}, {'측정소명': '정릉로', '날짜': '2024-09-26 15:00', 'pm10농도': '32', 'pm25농도': '17', 'so2농도': '0.003', 'co농도': '0.5', 'o3농도': '0.071', 'no2농도': '0.036', '통합대기환경수치': '84', '통합대기환경지수': '2', 'pm10등급': '1', 'pm25등급': '1'}, {'측정소명': '도봉구', '날짜': '2024-09-26 15:00', 'pm10농도': '14', 'pm25농도': '13', 'so2농도': '0.002', 'co농도': '0.3', 'o3농도': '0.081', 'no2농도': '0.008', '통합대기환경수치': '92', '통합대기환경지수': '2', 'pm10등급': '1', 'pm25등급': '1'}, {'측정소명': '은평구', '날짜': '2024-09-26 15:00', 'pm10농도': '22', 'pm25농도': '18', 'so2농도': '0.003', 'co농도': '0.3', 'o3농도': '0.057', 'no2농도': '0.009', '통합대기환경수치': '73', '통합대기환경지수': '2', 'pm10등급': '1', 'pm25등급': '1'}, {'측정소명': '서대문구', '날짜': '2024-09-26 15:00', 'pm10농도': '19', 'pm25농도': '12', 'so2농도': '0.003', 'co농도': '0.3', 'o3농도': '0.083', 'no2농도': '0.011', '통합대기환경수치': '95', '통합대기환경지수': '2', 'pm10등급': '1', 'pm25등급': '1'}, {'측정소명': '마포구', '날짜': '2024-09-26 15:00', 'pm10농도': '17', 'pm25농도': '15', 'so2농도': '0.003', 'co농도': '0.3', 'o3농도': '0.077', 'no2농도': '0.014', '통합대기환경수치': '89', '통합대기환경지수': '2', 'pm10등급': '1', 'pm25등급': '1'}, {'측정소명': '신촌로', '날짜': '2024-09-26 15:00', 'pm10농도': '28', 'pm25농도': '22', 'so2농도': '0.003', 'co농도': '0.6', 'o3농도': '0.048', 'no2농도': '0.038', '통합대기환경수치': '66', '통합대기환경지수': '2', 'pm10등급': '1', 'pm25등급': '1'}, {'측정소명': '강서구', '날짜': '2024-09-26 15:00', 'pm10농도': '21', 'pm25농도': '17', 'so2농도': '0.003', 'co농도': '0.3', 'o3농도': '0.073', 'no2농도': '0.012', '통합대기환경수치': '86', '통합대기환경지수': '2', 'pm10등급': '1', 'pm25등급': '1'}, {'측정소명': '공항대로', '날짜': '2024-09-26 15:00', 'pm10농도': '-', 'pm25농도': '-', 'so2농도': '-', 'co농도': '-', 'o3농도': '-', 'no2농도': '-', '통합대기환경수치': '-', '통합대기환경지수': None, 'pm10등급': None, 'pm25등급': None}, {'측정소명': '구로구', '날짜': '2024-09-26 15:00', 'pm10농도': '22', 'pm25농도': '10', 'so2농도': '0.003', 'co농도': '0.4', 'o3농도': '0.073', 'no2농도': '0.010', '통합대기환경수치': '86', '통합대기환경지수': '2', 'pm10등급': '1', 'pm25등급': '1'}, {'측정소명': '영등포구', '날짜': '2024-09-26 15:00', 'pm10농도': '22', 'pm25농도': '18', 'so2농도': '0.003', 'co농도': '0.3', 'o3농도': '0.078', 'no2농도': '0.017', '통합대기환경수치': '90', '통합대기환경지수': '2', 'pm10등급': '1', 'pm25등급': '1'}, {'측정소명': '영등포로', '날짜': '2024-09-26 15:00', 'pm10농도': '25', 'pm25농도': '16', 'so2농도': '0.002', 'co농도': '0.5', 'o3농도': '0.059', 'no2농도': '0.032', '통합대기환경수치': '75', '통합대기환경지수': '2', 'pm10등급': '1', 'pm25등급': '1'}, {'측정소명': '동작구', '날짜': '2024-09-26 15:00', 'pm10농도': '31', 'pm25농도': '19', 'so2농도': '0.003', 'co농도': '0.3', 'o3농도': '0.085', 'no2농도': '0.017', '통합대기환경수치': '96', '통합대기환경지수': '2', 'pm10등급': '1', 'pm25등급': '1'}, {'측정소명': '동작대로 중앙차로', '날짜': '2024-09-26 15:00', 'pm10농도': '30', 'pm25농도': '24', 'so2농도': '0.003', 'co농도': '0.4', 'o3농도': '0.069', 'no2농도': '0.039', '통합대기환경수치': '83', '통합대기환경지수': '2', 'pm10등급': '1', 'pm25등급': '2'}, {'측정소명': '관악구', '날짜': '2024-09-26 15:00', 'pm10농도': '28', 'pm25농도': '15', 'so2농도': '0.003', 'co농도': '0.3', 'o3농도': '0.076', 'no2농도': '0.017', '통합대기환경수치': '89', '통합대기환경지수': '2', 'pm10등급': '1', 'pm25등급': '1'}, {'측정소명': '강남구', '날짜': '2024-09-26 15:00', 'pm10농도': '27', 'pm25농도': '19', 'so2농도': '0.003', 'co농도': '0.4', 'o3농도': '0.080', 'no2농도': '0.017', '통합대기환경수치': '92', '통합대기환경지수': '2', 'pm10등급': '1', 'pm25등급': '1'}, {'측정소명': '서초구', '날짜': '2024-09-26 15:00', 'pm10농도': '33', 'pm25농도': '17', 'so2농도': '0.003', 'co농도': '0.3', 'o3농도': '0.081', 'no2농도': '0.015', '통합대기환경수치': '92', '통합대기환경지수': '2', 'pm10등급': '1', 'pm25등급': '1'}, {'측정소명': '도산대로', '날짜': '2024-09-26 15:00', 'pm10농도': '27', 'pm25농도': '21', 'so2농도': '0.003', 'co농도': '0.6', 'o3농도': '0.066', 'no2농도': '0.020', '통합대기환경수치': '81', '통합대기환경지수': '2', 'pm10등급': '1', 'pm25등급': '2'}, {'측정소명': '강남대로', '날짜': '2024-09-26 15:00', 'pm10농도': '32', 'pm25농도': '17', 'so2농도': '0.002', 'co농도': '0.6', 'o3농도': '0.050', 'no2농도': '0.039', '통합대기환경수치': '67', '통합대기환경지수': '2', 'pm10등급': '1', 'pm25등급': '1'}, {'측정소명': '송파구', '날짜': '2024-09-26 15:00', 'pm10농도': '31', 'pm25농도': '12', 'so2농도': '0.003', 'co농도': '0.4', 'o3농도': '0.075', 'no2농도': '0.019', '통합대기환경수치': '88', '통합대기환경지수': '2', 'pm10등급': '1', 'pm25등급': '1'}, {'측정소명': '강동구', '날짜': '2024-09-26 15:00', 'pm10농도': '30', 'pm25농도': '22', 'so2농도': '0.003', 'co농도': '0.5', 'o3농도': '0.081', 'no2농도': '0.014', '통합대기환경수치': '93', '통합대기환경지수': '2', 'pm10등급': '1', 'pm25등급': '1'}, {'측정소명': '천호대로', '날짜': '2024-09-26 15:00', 'pm10농도': '28', 'pm25농도': '16', 'so2농도': '0.002', 'co농도': '0.5', 'o3농도': '0.065', 'no2농도': '0.037', '통합대기환경수치': '80', '통합대기환경지수': '2', 'pm10등급': '1', 'pm25등급': '1'}, {'측정소명': '금천구', '날짜': '2024-09-26 15:00', 'pm10농도': '22', 'pm25농도': '18', 'so2농도': '0.003', 'co농도': '0.4', 'o3농도': '0.077', 'no2농도': '0.020', '통합대기환경수치': '90', '통합대기환경지수': '2', 'pm10등급': '1', 'pm25등급': '1'}, {'측정소명': '시흥대로', '날짜': '2024-09-26 15:00', 'pm10농도': '30', 'pm25농도': '19', 'so2농도': '0.003', 'co농도': '0.4', 'o3농도': '0.065', 'no2농도': '0.024', '통합대기환경수치': '79', '통합대기환경지수': '2', 'pm10등급': '1', 'pm25등급': '2'}, {'측정소명': '강북구', '날짜': '2024-09-26 15:00', 'pm10농도': '16', 'pm25농도': '8', 'so2농도': '0.002', 'co농도': '0.3', 'o3농도': '0.080', 'no2농도': '0.006', '통합대기환경수치': '92', '통합대기환경지수': '2', 'pm10등급': '1', 'pm25등급': '1'}, {'측정소명': '양천구', '날짜': '2024-09-26 15:00', 'pm10농도': '19', 'pm25농도': '15', 'so2농도': '0.003', 'co농도': '0.3', 'o3농도': '0.068', 'no2농도': '0.013', '통합대기환경수치': '82', '통합대기환경지수': '2', 'pm10등급': '1', 'pm25등급': '1'}, {'측정소명': '노원구', '날짜': '2024-09-26 15:00', 'pm10농도': '23', 'pm25농도': '11', 'so2농도': '0.002', 'co농도': '0.3', 'o3농도': '0.071', 'no2농도': '0.008', '통합대기환경수치': '84', '통합대기환경지수': '2', 'pm10등급': '1', 'pm25등급': '1'}, {'측정소명': '화랑로', '날짜': '2024-09-26 15:00', 'pm10농도': '-', 'pm25농도': '-', 'so2농도': '-', 'co농도': '-', 'o3농도': '-', 'no2농도': '-', '통합대기환경수치': '-', '통합대기환경지수': None, 'pm10등급': None, 'pm25등급': None}]\n",
      "[Document(metadata={}, page_content='측정소명: 중구, 날짜: 2024-09-26 15:00, pm10농도: 23, pm25농도: 18, 통합대기환경수치: 92'), Document(metadata={}, page_content='측정소명: 한강대로, 날짜: 2024-09-26 15:00, pm10농도: 41, pm25농도: 18, 통합대기환경수치: 93'), Document(metadata={}, page_content='측정소명: 종로구, 날짜: 2024-09-26 15:00, pm10농도: 24, pm25농도: 16, 통합대기환경수치: 94'), Document(metadata={}, page_content='측정소명: 청계천로, 날짜: 2024-09-26 15:00, pm10농도: 30, pm25농도: 19, 통합대기환경수치: -'), Document(metadata={}, page_content='측정소명: 종로, 날짜: 2024-09-26 15:00, pm10농도: 32, pm25농도: 16, 통합대기환경수치: 81'), Document(metadata={}, page_content='측정소명: 용산구, 날짜: 2024-09-26 15:00, pm10농도: 28, pm25농도: 18, 통합대기환경수치: 85'), Document(metadata={}, page_content='측정소명: 광진구, 날짜: 2024-09-26 15:00, pm10농도: 27, pm25농도: 20, 통합대기환경수치: 115'), Document(metadata={}, page_content='측정소명: 성동구, 날짜: 2024-09-26 15:00, pm10농도: 30, pm25농도: 17, 통합대기환경수치: 93'), Document(metadata={}, page_content='측정소명: 강변북로, 날짜: 2024-09-26 15:00, pm10농도: 33, pm25농도: -, 통합대기환경수치: -'), Document(metadata={}, page_content='측정소명: 중랑구, 날짜: 2024-09-26 15:00, pm10농도: 26, pm25농도: 16, 통합대기환경수치: 91'), Document(metadata={}, page_content='측정소명: 동대문구, 날짜: 2024-09-26 15:00, pm10농도: -, pm25농도: -, 통합대기환경수치: -'), Document(metadata={}, page_content='측정소명: 홍릉로, 날짜: 2024-09-26 15:00, pm10농도: 30, pm25농도: 15, 통합대기환경수치: -'), Document(metadata={}, page_content='측정소명: 성북구, 날짜: 2024-09-26 15:00, pm10농도: 26, pm25농도: 13, 통합대기환경수치: 87'), Document(metadata={}, page_content='측정소명: 정릉로, 날짜: 2024-09-26 15:00, pm10농도: 32, pm25농도: 17, 통합대기환경수치: 84'), Document(metadata={}, page_content='측정소명: 도봉구, 날짜: 2024-09-26 15:00, pm10농도: 14, pm25농도: 13, 통합대기환경수치: 92'), Document(metadata={}, page_content='측정소명: 은평구, 날짜: 2024-09-26 15:00, pm10농도: 22, pm25농도: 18, 통합대기환경수치: 73'), Document(metadata={}, page_content='측정소명: 서대문구, 날짜: 2024-09-26 15:00, pm10농도: 19, pm25농도: 12, 통합대기환경수치: 95'), Document(metadata={}, page_content='측정소명: 마포구, 날짜: 2024-09-26 15:00, pm10농도: 17, pm25농도: 15, 통합대기환경수치: 89'), Document(metadata={}, page_content='측정소명: 신촌로, 날짜: 2024-09-26 15:00, pm10농도: 28, pm25농도: 22, 통합대기환경수치: 66'), Document(metadata={}, page_content='측정소명: 강서구, 날짜: 2024-09-26 15:00, pm10농도: 21, pm25농도: 17, 통합대기환경수치: 86'), Document(metadata={}, page_content='측정소명: 공항대로, 날짜: 2024-09-26 15:00, pm10농도: -, pm25농도: -, 통합대기환경수치: -'), Document(metadata={}, page_content='측정소명: 구로구, 날짜: 2024-09-26 15:00, pm10농도: 22, pm25농도: 10, 통합대기환경수치: 86'), Document(metadata={}, page_content='측정소명: 영등포구, 날짜: 2024-09-26 15:00, pm10농도: 22, pm25농도: 18, 통합대기환경수치: 90'), Document(metadata={}, page_content='측정소명: 영등포로, 날짜: 2024-09-26 15:00, pm10농도: 25, pm25농도: 16, 통합대기환경수치: 75'), Document(metadata={}, page_content='측정소명: 동작구, 날짜: 2024-09-26 15:00, pm10농도: 31, pm25농도: 19, 통합대기환경수치: 96'), Document(metadata={}, page_content='측정소명: 동작대로 중앙차로, 날짜: 2024-09-26 15:00, pm10농도: 30, pm25농도: 24, 통합대기환경수치: 83'), Document(metadata={}, page_content='측정소명: 관악구, 날짜: 2024-09-26 15:00, pm10농도: 28, pm25농도: 15, 통합대기환경수치: 89'), Document(metadata={}, page_content='측정소명: 강남구, 날짜: 2024-09-26 15:00, pm10농도: 27, pm25농도: 19, 통합대기환경수치: 92'), Document(metadata={}, page_content='측정소명: 서초구, 날짜: 2024-09-26 15:00, pm10농도: 33, pm25농도: 17, 통합대기환경수치: 92'), Document(metadata={}, page_content='측정소명: 도산대로, 날짜: 2024-09-26 15:00, pm10농도: 27, pm25농도: 21, 통합대기환경수치: 81'), Document(metadata={}, page_content='측정소명: 강남대로, 날짜: 2024-09-26 15:00, pm10농도: 32, pm25농도: 17, 통합대기환경수치: 67'), Document(metadata={}, page_content='측정소명: 송파구, 날짜: 2024-09-26 15:00, pm10농도: 31, pm25농도: 12, 통합대기환경수치: 88'), Document(metadata={}, page_content='측정소명: 강동구, 날짜: 2024-09-26 15:00, pm10농도: 30, pm25농도: 22, 통합대기환경수치: 93'), Document(metadata={}, page_content='측정소명: 천호대로, 날짜: 2024-09-26 15:00, pm10농도: 28, pm25농도: 16, 통합대기환경수치: 80'), Document(metadata={}, page_content='측정소명: 금천구, 날짜: 2024-09-26 15:00, pm10농도: 22, pm25농도: 18, 통합대기환경수치: 90'), Document(metadata={}, page_content='측정소명: 시흥대로, 날짜: 2024-09-26 15:00, pm10농도: 30, pm25농도: 19, 통합대기환경수치: 79'), Document(metadata={}, page_content='측정소명: 강북구, 날짜: 2024-09-26 15:00, pm10농도: 16, pm25농도: 8, 통합대기환경수치: 92'), Document(metadata={}, page_content='측정소명: 양천구, 날짜: 2024-09-26 15:00, pm10농도: 19, pm25농도: 15, 통합대기환경수치: 82'), Document(metadata={}, page_content='측정소명: 노원구, 날짜: 2024-09-26 15:00, pm10농도: 23, pm25농도: 11, 통합대기환경수치: 84'), Document(metadata={}, page_content='측정소명: 화랑로, 날짜: 2024-09-26 15:00, pm10농도: -, pm25농도: -, 통합대기환경수치: -')]\n"
     ]
    }
   ],
   "source": [
    "import json\n",
    "import requests\n",
    "\n",
    "# API 요청\n",
    "sido = \"서울\"\n",
    "url = 'http://apis.data.go.kr/B552584/ArpltnInforInqireSvc/getCtprvnRltmMesureDnsty'\n",
    "params = {\n",
    "    'serviceKey': 'BQBdGk7ivmswO2MVuwRXPForbZ/3vUjq1QgzyqK7exzFmS5F54XRmmrvGv6v8TXIcWT8lMVYbtkt+l4YOHeEDg==',  # 올바른 API 키 입력\n",
    "    'returnType': 'json',\n",
    "    'numOfRows': '100',\n",
    "    'pageNo': '1',\n",
    "    'sidoName': sido,\n",
    "    'ver': '1.0'\n",
    "}\n",
    "\n",
    "response = requests.get(url, params=params)\n",
    "\n",
    "# 응답 처리\n",
    "content = response.text  # utf-8 디코딩 없이 간단하게 처리\n",
    "data = json.loads(content)\n",
    "\n",
    "# 대기질 데이터 파싱 함수\n",
    "def parse_air_quality_data(data):\n",
    "    items = data.get('response', {}).get('body', {}).get('items', [])\n",
    "    air_quality_info = []\n",
    "    for item in items:\n",
    "        info = {\n",
    "            '측정소명': item.get('stationName'),\n",
    "            '날짜': item.get('dataTime'),\n",
    "            'pm10농도': item.get('pm10Value'),\n",
    "            'pm25농도': item.get('pm25Value'),\n",
    "            'so2농도': item.get('so2Value'),\n",
    "            'co농도': item.get('coValue'),\n",
    "            'o3농도': item.get('o3Value'),\n",
    "            'no2농도': item.get('no2Value'),\n",
    "            '통합대기환경수치': item.get('khaiValue'),\n",
    "            '통합대기환경지수': item.get('khaiGrade'),\n",
    "            'pm10등급': item.get('pm10Grade'),\n",
    "            'pm25등급': item.get('pm25Grade')\n",
    "        }\n",
    "        air_quality_info.append(info)\n",
    "    return air_quality_info\n",
    "\n",
    "# 대기질 데이터 분석 및 출력\n",
    "air_quality_info = parse_air_quality_data(data)\n",
    "print(air_quality_info)\n",
    "\n",
    "# FAISS 처리\n",
    "from langchain_community.vectorstores import FAISS\n",
    "from langchain_text_splitters import RecursiveCharacterTextSplitter\n",
    "from langchain.schema import Document\n",
    "\n",
    "# 벡터 형태로 문서 변환\n",
    "documents = [Document(page_content=\", \".join(\n",
    "    [f\"{key}: {str(info[key])}\" for key in ['측정소명', '날짜', 'pm10농도', 'pm25농도', '통합대기환경수치']]\n",
    ")) for info in air_quality_info]\n",
    "print(documents)\n"
   ]
  },
  {
   "cell_type": "code",
   "execution_count": null,
   "metadata": {},
   "outputs": [],
   "source": []
  }
 ],
 "metadata": {
  "kernelspec": {
   "display_name": "py311",
   "language": "python",
   "name": "python3"
  },
  "language_info": {
   "codemirror_mode": {
    "name": "ipython",
    "version": 3
   },
   "file_extension": ".py",
   "mimetype": "text/x-python",
   "name": "python",
   "nbconvert_exporter": "python",
   "pygments_lexer": "ipython3",
   "version": "3.11.7"
  }
 },
 "nbformat": 4,
 "nbformat_minor": 2
}
